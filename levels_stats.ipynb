{
 "cells": [
  {
   "cell_type": "markdown",
   "metadata": {},
   "source": [
    "$s_k = \\varepsilon_{k+1} -\\varepsilon_k$"
   ]
  },
  {
   "cell_type": "markdown",
   "metadata": {},
   "source": [
    "$r(k) = \\frac{{\\rm min}(s_k, s_{k+1})}{{\\rm max}(s_k, s_{k+1})}$"
   ]
  },
  {
   "cell_type": "code",
   "execution_count": 1,
   "metadata": {},
   "outputs": [],
   "source": [
    "%run \"C:\\Users\\Nick\\Projects\\thermalization_sim\\v5_resubmission\\SYK2_thermalizer.py\" "
   ]
  },
  {
   "cell_type": "code",
   "execution_count": 2,
   "metadata": {},
   "outputs": [],
   "source": [
    "import numpy as np\n",
    "import matplotlib.pyplot  as  plt\n",
    "from numpy.linalg import eig\n",
    "from numpy.linalg import eigvalsh"
   ]
  },
  {
   "cell_type": "code",
   "execution_count": 3,
   "metadata": {},
   "outputs": [],
   "source": [
    "Jc = 1"
   ]
  },
  {
   "cell_type": "code",
   "execution_count": 4,
   "metadata": {},
   "outputs": [],
   "source": [
    "num = 4 \n",
    "nr = 100 \n",
    "coupling_consts_QC = np.load('data/couplings_QC_N={}_nr={}_J={}.npy'.format(num, nr, Jc), allow_pickle = True)"
   ]
  },
  {
   "cell_type": "code",
   "execution_count": 5,
   "metadata": {},
   "outputs": [],
   "source": [
    "num = 4 \n",
    "sp_levs4 = np.load('data/sp_levels_N={}.npy'.format(num), allow_pickle = True)\n",
    "energ4 = np.load('data/energ_N={}.npy'.format(num),allow_pickle = True)"
   ]
  },
  {
   "cell_type": "code",
   "execution_count": 6,
   "metadata": {},
   "outputs": [],
   "source": [
    "def gap_ratio(num, nr, sp_levs, coupling_consts):\n",
    "    a = 1.\n",
    "    n = num\n",
    "    mb_levels = [] * nr\n",
    "    ss = [] * nr\n",
    "    rs = [] * nr\n",
    "    r_len = 2 ** n - 2\n",
    "\n",
    "    for j in range(nr):\n",
    "        H_mat =H_0(n, sp_levs) + a * H_SYK2(n, coupling_consts[j])\n",
    "        #for i1 in range(2 ** n):\n",
    "        #        for i2 in range(2 ** n):\n",
    "        #            if H_mat[i1][i2] - np.conjugate(H_mat[i2][i1]) != 0.:\n",
    "        #                print('Hermicity check fails!') \n",
    "        evs = np.sort(eigvalsh(H_mat))\n",
    "        if n > 4:\n",
    "            print(j)\n",
    "        mb_levels.append(evs)\n",
    "        s_list = []\n",
    "        for k in range(int(len(evs))-1):\n",
    "            s_list.append(evs[k+1]-evs[k])       \n",
    "        ss.append(s_list)\n",
    "        r_list = []\n",
    "        for k in range(int(len(s_list))-1):\n",
    "            r_list.append(min(s_list[k],s_list[k+1])/max(s_list[k],s_list[k+1]))\n",
    "        rs.append(r_list)    \n",
    "\n",
    "    data = [] * r_len    \n",
    "    for k in range(r_len):\n",
    "        data_list = []\n",
    "        for j in range(nr):\n",
    "            data_list.append(rs[j][k])\n",
    "        data.append(data_list)\n",
    "        \n",
    "    np.save('data/data_WD_N={}_nr={}.npy'.format(num, nr), data, allow_pickle = True)    \n",
    "    \n",
    "#    return data"
   ]
  },
  {
   "cell_type": "code",
   "execution_count": 7,
   "metadata": {},
   "outputs": [],
   "source": [
    "gap_ratio(4, 100, sp_levs4, coupling_consts_QC)"
   ]
  },
  {
   "cell_type": "code",
   "execution_count": 8,
   "metadata": {},
   "outputs": [],
   "source": [
    "num = 4\n",
    "nr = 100\n",
    "data4_100 = np.load('data/data_WD_N={}_nr={}.npy'.format(num, nr), allow_pickle = True)"
   ]
  },
  {
   "cell_type": "code",
   "execution_count": 24,
   "metadata": {},
   "outputs": [],
   "source": [
    "#gap_ratio(10, 1000, sp_levs10, coupling_consts[10, 1000])"
   ]
  },
  {
   "cell_type": "code",
   "execution_count": 9,
   "metadata": {},
   "outputs": [],
   "source": [
    "num = 10\n",
    "nr = 1000\n",
    "data10_1000 = np.load('data/data_WD_N={}_nr={}.npy'.format(num, nr), allow_pickle = True)"
   ]
  },
  {
   "cell_type": "code",
   "execution_count": 10,
   "metadata": {},
   "outputs": [],
   "source": [
    "def PWD(beta, x):\n",
    "    if beta == 1:\n",
    "        Z = 8 / 27\n",
    "    elif beta == 2:\n",
    "        Z = 4 * np.pi / np.sqrt(3) / 81 \n",
    "    elif beta == 4:\n",
    "        Z = 4 * np.pi / np.sqrt(3) / 729\n",
    "    else:\n",
    "        print('wrong beta')\n",
    "    f = (x + x ** 2) ** beta / (1 + x + x ** 2) ** (1 + 3 * beta / 2) / Z   \n",
    "    return f "
   ]
  },
  {
   "cell_type": "code",
   "execution_count": 11,
   "metadata": {},
   "outputs": [],
   "source": [
    "x = np.linspace(0,1,101)"
   ]
  },
  {
   "cell_type": "code",
   "execution_count": 12,
   "metadata": {},
   "outputs": [],
   "source": [
    "fparams = {'xtick.labelsize': 20,\n",
    "            'ytick.labelsize': 20,\n",
    "            'axes.labelsize': 24,\n",
    "            'axes.titlesize': 18,\n",
    "            'font.size': 20,\n",
    "            'legend.fontsize': 16,\n",
    "           'text.usetex': True,\n",
    "           'legend.frameon' : False,\n",
    "           'svg.fonttype': 'path'}"
   ]
  },
  {
   "cell_type": "code",
   "execution_count": 13,
   "metadata": {
    "scrolled": true
   },
   "outputs": [
    {
     "data": {
      "text/plain": [
       "np.float64(0.5962661120991198)"
      ]
     },
     "execution_count": 13,
     "metadata": {},
     "output_type": "execute_result"
    }
   ],
   "source": [
    "np.mean(data10_1000[657])"
   ]
  },
  {
   "cell_type": "code",
   "execution_count": 14,
   "metadata": {},
   "outputs": [
    {
     "name": "stdout",
     "output_type": "stream",
     "text": [
      "(102, 1000)\n",
      "(102000,)\n",
      "0.599809627340937\n"
     ]
    }
   ],
   "source": [
    "num = 10\n",
    "kk10 = 657\n",
    "dkk10 = int((2 ** num - 2) * 0.05)\n",
    "data10_1000_av = data10_1000[kk10-dkk10:kk10+dkk10].flatten()\n",
    "print(data10_1000[kk10-dkk10:kk10+dkk10].shape)\n",
    "print(data10_1000_av.shape)\n",
    "print(np.mean(data10_1000_av))"
   ]
  },
  {
   "cell_type": "code",
   "execution_count": 15,
   "metadata": {},
   "outputs": [
    {
     "data": {
      "image/png": "[encoded data removed]",
      "text/plain": [
       "<Figure size 640x480 with 1 Axes>"
      ]
     },
     "metadata": {},
     "output_type": "display_data"
    }
   ],
   "source": [
    "plt.rcParams.update(fparams)\n",
    "\n",
    "#kk4 = 9\n",
    "#kk8 = 173\n",
    "#kk10 = 657\n",
    "beta = 2\n",
    "\n",
    "fig = plt.figure()\n",
    "ax = fig.add_subplot()\n",
    "#ax.set_title(r'$N={}$'.format(num))\n",
    "ax.hist(data4_100[2:].flatten(), bins = 10, range=(0, 1), density = True, histtype='step', color ='blue', linewidth = 2.,  \n",
    "        label = r'$\\langle r \\rangle={}$, '.format(np.mean(data4_100[2:].flatten()).round(2))+r'$M=100$, '+r'$N=4$')\n",
    "#ax.hist(data4_1000.flatten(), bins = 10, range=(0, 1), density = True, histtype='step', color = 'red', linewidth = 2.,\n",
    "#        label = r'$\\langle r \\rangle={}$, '.format(np.mean(data4_1000.flatten()).round(2))+r'$M=1000$, '+r'$N=4$')\n",
    "ax.hist(data10_1000_av, bins = 10, range=(0, 1), density = True, histtype='step', color ='red', linewidth = 2.,  \n",
    "        label = r'$\\langle r \\rangle={}$, '.format(np.mean(data10_1000_av).round(2))+r'$M=1000$, '+r'$N=10$')\n",
    "ax.plot(x, 2 * PWD(beta, x), '--', color ='k', linewidth = 2., label=r'$\\rm GUE$')\n",
    "ax.plot(x, 2 / (1 + x) ** 2, ':', color ='gray', linewidth = 2., label=r'$\\rm Poisson$')\n",
    "ax.set_xlabel(r'$r$')\n",
    "ax.set_ylabel(r'$P(r)$')\n",
    "ax.tick_params(which='major', direction=\"in\", top = \"True\", right = \"True\"); \n",
    "ax.tick_params(which='minor', direction=\"in\")\n",
    "#ax.set_yticks(np.arange(0, 3.5, 0.5))\n",
    "ax.legend(bbox_to_anchor=(1.05, 0.75), handlelength = 1.95)\n",
    "#ax.legend(handlelength = 1.95)\n",
    "#plt.savefig('figs/fig_PWD_v2.svg', bbox_inches=\"tight\", pad_inches = 0)\n",
    "plt.show()"
   ]
  },
  {
   "cell_type": "code",
   "execution_count": null,
   "metadata": {},
   "outputs": [],
   "source": []
  }
 ],
 "metadata": {
  "kernelspec": {
   "display_name": "Python 3 (ipykernel)",
   "language": "python",
   "name": "python3"
  },
  "language_info": {
   "codemirror_mode": {
    "name": "ipython",
    "version": 3
   },
   "file_extension": ".py",
   "mimetype": "text/x-python",
   "name": "python",
   "nbconvert_exporter": "python",
   "pygments_lexer": "ipython3",
   "version": "3.10.18"
  }
 },
 "nbformat": 4,
 "nbformat_minor": 4
}
